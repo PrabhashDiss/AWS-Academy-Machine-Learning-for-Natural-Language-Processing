{
 "cells": [
  {
   "cell_type": "markdown",
   "metadata": {},
   "source": [
    "Version: 02.14.2023"
   ]
  },
  {
   "cell_type": "markdown",
   "metadata": {},
   "source": [
    "# Challenge Lab 6.3: Implementing Topic Modeling\n",
    "\n",
    "In this lab, you will use either Amazon Comprehend or the Amazon SageMaker Neural Topic Model (NTM) to extract topics from the [CMU Movie Summary Corpus](http://www.cs.cmu.edu/~ark/personas/). \n",
    "\n",
    "## CMU Movie Summary Corpus\n",
    "\n",
    "The CMU Movie Summary Corpus is a collection of 42,306 movie plot summaries and metadata at both the movie level (including box office revenue, genre, and date of release) and character level (including gender and estimated age).  This data supports work in the following paper:\n",
    "\n",
    "David Bamman, Brendan O'Connor, and Noah Smith. \"Learning Latent Personas of Film Characters.\" Presented at the Annual Meeting of the Association for Computational Linguistics (ACL 2013), Sofia, Bulgaria, August 2013. http://www.cs.cmu.edu/~dbamman/pubs/pdf/bamman+oconnor+smith.acl13.pdf.\n",
    "\n",
    "You will use two datasets in this lab:\n",
    "\n",
    "**plot_summaries.txt**\n",
    "\n",
    "This dataset contains plot summaries of 42,306 movies, extracted from the November 2, 2012 dump of English-language Wikipedia. Each line contains the Wikipedia movie ID (which indexes into movie.metadata.tsv) followed by the summary.\n",
    "\n",
    "**movie.metadata.tsv**\n",
    "\n",
    "This dataset contains metadata for 81,741 movies, extracted from the November 4, 2012 dump of Freebase. The data is tab-separated and contains the following columns:\n",
    "\n",
    "1. Wikipedia movie ID\n",
    "2. Freebase movie ID\n",
    "3. Movie name\n",
    "4. Movie release date\n",
    "5. Movie box office revenue\n",
    "6. Movie runtime\n",
    "7. Movie languages (Freebase ID:name tuples)\n",
    "8. Movie countries (Freebase ID:name tuples)\n",
    "9. Movie genres (Freebase ID:name tuples)"
   ]
  },
  {
   "cell_type": "markdown",
   "metadata": {},
   "source": [
    "## Lab steps\n",
    "\n",
    "To complete this lab, you will follow these steps:\n",
    "\n",
    "1. [Installing the packages](#1.-Installing-the-packages)\n",
    "2. [Reviewing the dataset](#2.-Reviewing-the-dataset)\n",
    "3. [Extracting topics](#3.-Extracting-topics)\n",
    "\n",
    "## Submitting your work\n",
    "\n",
    "1. In the lab console, choose **Submit** to record your progress and when prompted, choose **Yes**.\n",
    "\n",
    "1. If the results don't display after a couple of minutes, return to the top of these instructions and choose **Grades**.\n",
    "\n",
    "     **Tip**: You can submit your work multiple times. After you change your work, choose **Submit** again. Your last submission is what will be recorded for this lab.\n",
    "\n",
    "1. To find detailed feedback on your work, choose **Details** followed by **View Submission Report**."
   ]
  },
  {
   "cell_type": "markdown",
   "metadata": {},
   "source": [
    "## 1. Installing the packages\n",
    "([Go to top](#Challenge-Lab-6.3:-Implementing-Topic-Extraction))\n",
    "\n",
    "First, update and install the packages that you will use in the notebook."
   ]
  },
  {
   "cell_type": "code",
   "execution_count": 1,
   "metadata": {
    "slideshow": {
     "slide_type": "skip"
    }
   },
   "outputs": [
    {
     "name": "stderr",
     "output_type": "stream",
     "text": [
      "Matplotlib is building the font cache; this may take a moment.\n",
      "[nltk_data] Downloading package punkt to /home/ec2-user/nltk_data...\n",
      "[nltk_data]   Unzipping tokenizers/punkt.zip.\n",
      "[nltk_data] Downloading package stopwords to\n",
      "[nltk_data]     /home/ec2-user/nltk_data...\n",
      "[nltk_data]   Unzipping corpora/stopwords.zip.\n",
      "[nltk_data] Downloading package averaged_perceptron_tagger to\n",
      "[nltk_data]     /home/ec2-user/nltk_data...\n",
      "[nltk_data]   Unzipping taggers/averaged_perceptron_tagger.zip.\n",
      "[nltk_data] Downloading package wordnet to /home/ec2-user/nltk_data...\n"
     ]
    }
   ],
   "source": [
    "%matplotlib inline\n",
    "\n",
    "import boto3\n",
    "import os, io, struct, json\n",
    "import numpy as np\n",
    "import pandas as pd\n",
    "import seaborn as sns\n",
    "import matplotlib.pyplot as plt\n",
    "import uuid\n",
    "from time import sleep\n",
    "import re\n",
    "import nltk\n",
    "nltk.download('punkt')\n",
    "nltk.download('stopwords')\n",
    "nltk.download('averaged_perceptron_tagger')\n",
    "nltk.download('wordnet')\n",
    "from nltk.corpus import stopwords\n",
    "from nltk.stem.porter import PorterStemmer\n",
    "from nltk.tokenize import RegexpTokenizer\n",
    "from nltk.stem.wordnet import WordNetLemmatizer"
   ]
  },
  {
   "cell_type": "code",
   "execution_count": 2,
   "metadata": {},
   "outputs": [],
   "source": [
    "bucket = \"c100688a2296030l5426874t1w241840010076-labbucket-4068hmqh9l3w\"\n",
    "job_data_access_role = 'arn:aws:iam::241840010076:role/service-role/c100688a2296030l5426874t1w-ComprehendDataAccessRole-Am4ndZ38wCo2'\n",
    "prefix='lab63'"
   ]
  },
  {
   "cell_type": "markdown",
   "metadata": {},
   "source": [
    "## 2. Reviewing the dataset\n",
    "([Go to top](#Challenge-Lab-6.3:-Implementing-Topic-Extraction))\n",
    "\n",
    "First, load the plot_summaries.tsv data into a pandas DataFrame.\n",
    "\n",
    "The file contains two columns: **movie_id** and **plot**. The data is tab-separated, and the '\\t' escape sequence is used as the separator."
   ]
  },
  {
   "cell_type": "code",
   "execution_count": 3,
   "metadata": {},
   "outputs": [],
   "source": [
    "df = pd.read_csv('../data/plot_summaries.tsv', sep='\\t', names=['movie_id','plot'])"
   ]
  },
  {
   "cell_type": "markdown",
   "metadata": {},
   "source": [
    "Review the first few rows of data to get an overview of how the data is structured."
   ]
  },
  {
   "cell_type": "code",
   "execution_count": 4,
   "metadata": {},
   "outputs": [
    {
     "data": {
      "text/html": [
       "<div>\n",
       "<style scoped>\n",
       "    .dataframe tbody tr th:only-of-type {\n",
       "        vertical-align: middle;\n",
       "    }\n",
       "\n",
       "    .dataframe tbody tr th {\n",
       "        vertical-align: top;\n",
       "    }\n",
       "\n",
       "    .dataframe thead th {\n",
       "        text-align: right;\n",
       "    }\n",
       "</style>\n",
       "<table border=\"1\" class=\"dataframe\">\n",
       "  <thead>\n",
       "    <tr style=\"text-align: right;\">\n",
       "      <th></th>\n",
       "      <th>movie_id</th>\n",
       "      <th>plot</th>\n",
       "    </tr>\n",
       "  </thead>\n",
       "  <tbody>\n",
       "    <tr>\n",
       "      <th>0</th>\n",
       "      <td>23890098</td>\n",
       "      <td>Shlykov, a hard-working taxi driver and Lyosha, a saxophonist, develop a bizarre love-hate relationship, and despite their prejudices, realize they aren't so different after all.</td>\n",
       "    </tr>\n",
       "    <tr>\n",
       "      <th>1</th>\n",
       "      <td>31186339</td>\n",
       "      <td>The nation of Panem consists of a wealthy Capitol and twelve poorer districts. As punishment for a past rebellion, each district must provide a boy and girl  between the ages of 12 and 18 selected by lottery  for the annual Hunger Games. The tributes must fight to the death in an arena; the sole survivor is rewarded with fame and wealth. In her first Reaping, 12-year-old Primrose Everdeen is chosen from District 12. Her older sister Katniss volunteers to take her place. Peeta Mellark, a baker's son who once gave Katniss bread when she was starving, is the other District 12 tribute. Katniss and Peeta are taken to the Capitol, accompanied by their frequently drunk mentor, past victor Haymitch Abernathy. He warns them about the \"Career\" tributes who train intensively at special academies and almost always win. During a TV interview with Caesar Flickerman, Peeta unexpectedly reveals his love for Katniss. She is outraged, believing it to be a ploy to gain audience support, as \"sponsors\" may provide in-Games gifts of food, medicine, and tools. However, she discovers Peeta meant what he said. The televised Games begin with half of the tributes killed in the first few minutes; Katniss barely survives ignoring Haymitch's advice to run away from the melee over the tempting supplies and weapons strewn in front of a structure called the Cornucopia. Peeta forms an uneasy alliance with the four Careers. They later find Katniss and corner her up a tree. Rue, hiding in a nearby tree, draws her attention to a poisonous tracker jacker nest hanging from a branch. Katniss drops it on her sleeping besiegers. They all scatter, except for Glimmer, who is killed by the insects. Hallucinating due to tracker jacker venom, Katniss is warned to run away by Peeta. Rue cares for Katniss for a couple of days until she recovers. Meanwhile, the alliance has gathered all the supplies into a pile. Katniss has Rue draw them off, then destroys the stockpile by setting off the mines planted around it. Furious, Cato kills the boy assigned to guard it. As Katniss runs from the scene, she hears Rue calling her name. She finds Rue trapped and releases her. Marvel, a tribute from District 1, throws a spear at Katniss, but she dodges the spear, causing it to stab Rue in the stomach instead. Katniss shoots him dead with an arrow. She then comforts the dying Rue with a song. Afterward, she gathers and arranges flowers around Rue's body. When this is televised, it sparks a riot in Rue's District 11. President Snow summons Seneca Crane, the Gamemaker, to express his displeasure at the way the Games are turning out. Since Katniss and Peeta have been presented to the public as \"star-crossed lovers\", Haymitch is able to convince Crane to make a rule change to avoid inciting further riots. It is announced that tributes from the same district can win as a pair. Upon hearing this, Katniss searches for Peeta and finds him with an infected sword wound in the leg. She portrays herself as deeply in love with him and gains a sponsor's gift of soup. An announcer proclaims a feast, where the thing each survivor needs most will be provided. Peeta begs her not to risk getting him medicine. Katniss promises not to go, but after he falls asleep, she heads to the feast. Clove ambushes her and pins her down. As Clove gloats, Thresh, the other District 11 tribute, kills Clove after overhearing her tormenting Katniss about killing Rue. He spares Katniss \"just this time...for Rue\". The medicine works, keeping Peeta mobile. Foxface, the girl from District 5, dies from eating nightlock berries she stole from Peeta; neither knew they are highly poisonous. Crane changes the time of day in the arena to late at night and unleashes a pack of hound-like creatures to speed things up. They kill Thresh and force Katniss and Peeta to flee to the roof of the Cornucopia, where they encounter Cato. After a battle, Katniss wounds Cato with an arrow and Peeta hurls him to the creatures below. Katniss shoots Cato to spare him a prolonged death. With Peeta and Katniss apparently victorious, the rule change allowing two winners is suddenly revoked. Peeta tells Katniss to shoot him. Instead, she gives him half of the nightlock. However, before they can commit suicide, they are hastily proclaimed the victors of the 74th Hunger Games. Haymitch warns Katniss that she has made powerful enemies after her display of defiance. She and Peeta return to District 12, while Crane is locked in a room with a bowl of nightlock berries, and President Snow considers the situation.</td>\n",
       "    </tr>\n",
       "    <tr>\n",
       "      <th>2</th>\n",
       "      <td>20663735</td>\n",
       "      <td>Poovalli Induchoodan  is sentenced for six years prison life for murdering his classmate. Induchoodan, the only son of Justice Maranchery Karunakara Menon  was framed in the case by Manapally Madhavan Nambiar  and his crony DYSP Sankaranarayanan  to take revenge on idealist judge Menon who had earlier given jail sentence to Manapally in a corruption case. Induchoodan, who had achieved top rank in Indian Civil Service loses the post and Manapally Sudheeran ([[Saikumar  enters the list of civil service trainees. We learn in flashback that it was Ramakrishnan  the son of Moopil Nair , who had actually killed his classmate. Six years passes by and Manapally Madhavan Nambiar, now a former state minister, is dead and Induchoodan, who is all rage at the gross injustice meted out to him - thus destroying his promising life, is released from prison. Induchoodan thwarts Manapally Pavithran  from performing the funeral rituals of Nambiar at Bharathapuzha. Many confrontations between Induchoodan and Manapally's henchmen follow. Induchoodan also falls in love with Anuradha ([[Aishwarya , the strong-willed and independent-minded daughter of Mooppil Nair. Justice Menon and his wife returns back to Kerala to stay with Induchoodan. There is an appearance of a girl named Indulekha ([[Kanaka , who claims to be the daughter of Justice Menon. Menon flatly refuses the claim and banishes her. Forced by circumstances and at the instigation and help of Manapally Pavithran, she reluctantly come out open with the claim. Induchoodan at first thrashes the protesters. But upon knowing the truth from Chandrabhanu his uncle, he accepts the task of her protection in the capacity as elder brother. Induchoodan decides to marry off Indulekha to his good friend Jayakrishnan . Induchoodan has a confrontation with his father and prods him to accept mistake and acknowledge the parentage of Indulekha. Menon ultimately regrets and goes on to confess to his daughter. The very next day, when Induchoodan returns to Poovally, Indulekha is found dead and Menon is accused of murdering her. The whole act was planned by Pavithran, who after killing Indulekha, forces Raman Nair  to testify against Menon in court. In court, Nandagopal Maarar , a close friend of Induchoodan and a famous supreme court lawyer, appears for Menon and manages to lay bare the murder plot and hidden intentions of other party . Menon is judged innocent of the crime by court. After confronting Pavithran and promising just retribution to the crime of killing Indulekha, Induchoodan returns to his father, who now shows remorse for all his actions including not believing in the innocence of his son. But while speaking to Induchoodan, Menon suffers a heart stroke and passes away. At Menon's funeral, Manapally Pavithran arrives to poke fun at Induchoodan and he also tries to carry out the postponed last rituals of his own father. Induchoodan interrupts the ritual and avenges for the death of his sister and father by severely injuring Pavithran. On his way back to peaceful life, Induchoodan accepts Anuradha as his life partner.</td>\n",
       "    </tr>\n",
       "    <tr>\n",
       "      <th>3</th>\n",
       "      <td>2231378</td>\n",
       "      <td>The Lemon Drop Kid , a New York City swindler, is illegally touting horses at a Florida racetrack. After several successful hustles, the Kid comes across a beautiful, but gullible, woman intending to bet a lot of money. The Kid convinces her to switch her bet, employing a prefabricated con. Unfortunately for the Kid, the woman \"belongs\" to notorious gangster Moose Moran , as does the money. The Kid's choice finishes dead last and a furious Moran demands the Kid provide him with $10,000  by Christmas Eve, or the Kid \"won't make it to New Year's.\" The Kid decides to return to New York to try to come up with the money. He first tries his on-again, off-again girlfriend Brainy Baxter . However, when talk of long-term commitment arises, the Kid quickly makes an escape. He next visits local crime boss \"Oxford\" Charley , with whom he has had past dealings. This falls through as Charley is in serious tax trouble and does not particularly care for the Kid anyway. As he leaves Charley's establishment and is about to give up hope, the Kid notices a cornerside Santa Claus and his kettle. Thinking quickly, the Kid fashions himself a Santa suit and begins collecting donations. This fails as he is recognized by a passing policeman, who remembers his previous underhanded activity well. The Kid lands in court, where he is convicted of collecting for a charity without a license and sentenced to ten days in jail . However, while in court, the Kid learns where his scheme went wrong. After a short stay, Brainy arrives to bail him out. He then sets about restarting his Santa operation, this time with legitimate backing. To this end, he needs a charity to represent and a city license. The kid receives key inspiration when he remembers that Nellie Thursday , a kindly neighborhood resident, has been denied entry to a retirement home because of her jailed husband's criminal past as a safecracker. Organizing other small-time New York swindlers and Brainy, who is both surprised and charmed at the Kid's apparent goodwill, the Kid converts an abandoned casino  into the \"Nellie Thursday Home For Old Dolls\". A small group of elderly women and makeshift amenities complete the project. The Kid is able to receive the all-important city license. Now free to collect, the Kid and his compatriots dress as Santa Claus and position themselves throughout Manhattan. The others are unaware that the Kid plans to keep the money for himself to pay off Moran. The scheme is a huge success, netting $2,000 in only a few days. An overjoyed Brainy decides to leave her job as a dancer and look after the \"home\" full-time until after Christmas. Coincidentally, her employer is none other than \"Oxford\" Charley, whom Brainy cheerfully informs of the effort. Seeing a potential gold mine, Charley decides to muscle in on the operation. Reasoning that the Nellie Thursday home is \"wherever Nellie Thursday is\", Charley and his crew kidnap the home's inhabitants  and move them to Charley's mansion in Nyack. The Kid learns of this when he returns to the home after a late night to find the home deserted and money  gone. Clued in by oversized Oxford footprints in the snow, the Kid and his friends pay Charley a visit. Here, Charley reveals the true nature of the Kid's scheme through a phone conversation with Moose Moran. The Kid's accomplices are angry and move to confront him, but the Kid manages to slip away. However, Brainy tracks him down outside and voices her disgust at his actions. After a few days of stewing in self-pity , the Kid is surprised to meet Nellie, who has escaped Charley's compound. He decides to recover the money, sneaking into Charley's home in the guise of an elderly woman. He finds that Charley and his crew are again moving the women, this time to a more secure location. Using the heightened activity to his advantage, the Kid enters Charley's office and confronts him. After a brief struggle, the Kid overpowers Charley and makes off with the money, narrowly avoiding the thugs Charley has sent after him. The ensuing chaos allows Brainy and the others to escape. Later that night, the Kid returns to the original Nellie Thursday home to meet with Moose Moran . The deal appears to be in jeopardy as Moran arrives with Charley. Charley demands that the Kid reimburse him, which would leave too little for Moran. However, the Kid turns the tables by hitting a switch, revealing hidden casino tables. All are occupied, mainly by the escaped old dolls. The Kid and his still-loyal friends hold off the gangsters as the police initiate a raid. Moran and Charley are arrested while the judge who sentenced the Kid earlier warns that he will be \"keeping an eye on him\". The Kid assures him that will not be necessary and his attention will lie on the home, which is going to become a reality. The night's main event begins as Nellie's husband Henry, free on parole, joyously reunites with his wife.</td>\n",
       "    </tr>\n",
       "    <tr>\n",
       "      <th>4</th>\n",
       "      <td>595909</td>\n",
       "      <td>Seventh-day Adventist Church pastor Michael Chamberlain, his wife Lindy, their two sons, and their nine-week-old daughter Azaria are on a camping holiday in the Outback. With the baby sleeping in their tent, the family is enjoying a barbecue with their fellow campers when a cry is heard. Lindy returns to the tent to check on Azaria and is certain she sees a dingo with something in its mouth running off as she approaches. When she discovers the infant is missing, everyone joins forces to search for her, without success. It is assumed what Lindy saw was the animal carrying off the child, and a subsequent inquest rules her account of events is true. The tide of public opinion soon turns against the Chamberlains. For many, Lindy seems too stoic, too cold-hearted, and too accepting of the disaster that has befallen her. Gossip about her begins to swell and soon is accepted as statements of fact. The couple's beliefs are not widely practised in the country, and when the media report a rumour that the name Azaria means \"sacrifice in the wilderness\" , the public is quick to believe they decapitated their baby with a pair of scissors as part of a bizarre religious rite. Law-enforcement officials find new witnesses, forensics experts, and a lot of circumstantial evidence—including a small wooden coffin Michael uses as a receptacle for his parishioners' packs of un-smoked cigarettes—and reopen the investigation, and eventually Lindy is charged with murder. Seven months pregnant, she ignores her attorneys' advice to play on the jury's sympathy and appears emotionless on the stand, convincing onlookers she is guilty of the crime of which she is accused. As the trial progresses, Michael's faith in his religion and his belief in his wife disintegrate, and he stumbles through his testimony, suggesting he is concealing the truth. In October 1982, Lindy is found guilty and sentenced to life imprisonment with hard labour, while Michael is found guilty as an accessory and given an 18-month suspended sentence. More than three years later, while searching for the body of an English tourist who fell from Uluru, police discover a small item of clothing that is identified as the jacket Lindy had insisted Azaria was wearing over her jumpsuit, which had been recovered early in the investigation. She is immediately released from prison, the case reopened and all convictions against the Chamberlains overturned.</td>\n",
       "    </tr>\n",
       "  </tbody>\n",
       "</table>\n",
       "</div>"
      ],
      "text/plain": [
       "   movie_id  \\\n",
       "0  23890098   \n",
       "1  31186339   \n",
       "2  20663735   \n",
       "3   2231378   \n",
       "4    595909   \n",
       "\n",
       "                                                                                                                                                                                                                                                                                                                                                                                                                                                                                                                                                                                                                                                                                                                                                                                                                                                                                                                                                                                                                                                                                                                                                                                                                                                                                                                                                                                                                                                                                                                                                                                                                                                                                                                                                                                                                                                                                                                                                                                                                                                                                                                                                                                                                                                                                                                                                                                                                                                                                                                                                                                                                                                                                                                                                                                                                                                                                                                                                                                                                                                                                                                                                                                                                                                                                                                                                                                                                                                                                                                                                                                                                                                                                                                                                                                                                                                                                                                                                                                                                                                                                                                                                                                                                                                                                                                                                                                                                                                                                                                                                                                                                                                                                                                                                                                                                                                                                                                                                                                                                                                                                                                    plot  \n",
       "0                                                                                                                                                                                                                                                                                                                                                                                                                                                                                                                                                                                                                                                                                                                                                                                                                                                                                                                                                                                                                                                                                                                                                                                                                                                                                                                                                                                                                                                                                                                                                                                                                                                                                                                                                                                                                                                                                                                                                                                                                                                                                                                                                                                                                                                                                                                                                                                                                                                                                                                                                                                                                                                                                                                                                                                                                                                                                                                                                                                                                                                                                                                                                                                                                                                                                                                                                                                                                                                                                                                                                                                                                                                                                                                                                                                                                                                                                                                                                                                                                                                                                                                                                                                                                                                                                                                                                                                                                                                                                                                                                                                                                                                                                                                                                                                                                                                                                                                                     Shlykov, a hard-working taxi driver and Lyosha, a saxophonist, develop a bizarre love-hate relationship, and despite their prejudices, realize they aren't so different after all.  \n",
       "1                                                                                                                                                                                                                                                                                                                                                                        The nation of Panem consists of a wealthy Capitol and twelve poorer districts. As punishment for a past rebellion, each district must provide a boy and girl  between the ages of 12 and 18 selected by lottery  for the annual Hunger Games. The tributes must fight to the death in an arena; the sole survivor is rewarded with fame and wealth. In her first Reaping, 12-year-old Primrose Everdeen is chosen from District 12. Her older sister Katniss volunteers to take her place. Peeta Mellark, a baker's son who once gave Katniss bread when she was starving, is the other District 12 tribute. Katniss and Peeta are taken to the Capitol, accompanied by their frequently drunk mentor, past victor Haymitch Abernathy. He warns them about the \"Career\" tributes who train intensively at special academies and almost always win. During a TV interview with Caesar Flickerman, Peeta unexpectedly reveals his love for Katniss. She is outraged, believing it to be a ploy to gain audience support, as \"sponsors\" may provide in-Games gifts of food, medicine, and tools. However, she discovers Peeta meant what he said. The televised Games begin with half of the tributes killed in the first few minutes; Katniss barely survives ignoring Haymitch's advice to run away from the melee over the tempting supplies and weapons strewn in front of a structure called the Cornucopia. Peeta forms an uneasy alliance with the four Careers. They later find Katniss and corner her up a tree. Rue, hiding in a nearby tree, draws her attention to a poisonous tracker jacker nest hanging from a branch. Katniss drops it on her sleeping besiegers. They all scatter, except for Glimmer, who is killed by the insects. Hallucinating due to tracker jacker venom, Katniss is warned to run away by Peeta. Rue cares for Katniss for a couple of days until she recovers. Meanwhile, the alliance has gathered all the supplies into a pile. Katniss has Rue draw them off, then destroys the stockpile by setting off the mines planted around it. Furious, Cato kills the boy assigned to guard it. As Katniss runs from the scene, she hears Rue calling her name. She finds Rue trapped and releases her. Marvel, a tribute from District 1, throws a spear at Katniss, but she dodges the spear, causing it to stab Rue in the stomach instead. Katniss shoots him dead with an arrow. She then comforts the dying Rue with a song. Afterward, she gathers and arranges flowers around Rue's body. When this is televised, it sparks a riot in Rue's District 11. President Snow summons Seneca Crane, the Gamemaker, to express his displeasure at the way the Games are turning out. Since Katniss and Peeta have been presented to the public as \"star-crossed lovers\", Haymitch is able to convince Crane to make a rule change to avoid inciting further riots. It is announced that tributes from the same district can win as a pair. Upon hearing this, Katniss searches for Peeta and finds him with an infected sword wound in the leg. She portrays herself as deeply in love with him and gains a sponsor's gift of soup. An announcer proclaims a feast, where the thing each survivor needs most will be provided. Peeta begs her not to risk getting him medicine. Katniss promises not to go, but after he falls asleep, she heads to the feast. Clove ambushes her and pins her down. As Clove gloats, Thresh, the other District 11 tribute, kills Clove after overhearing her tormenting Katniss about killing Rue. He spares Katniss \"just this time...for Rue\". The medicine works, keeping Peeta mobile. Foxface, the girl from District 5, dies from eating nightlock berries she stole from Peeta; neither knew they are highly poisonous. Crane changes the time of day in the arena to late at night and unleashes a pack of hound-like creatures to speed things up. They kill Thresh and force Katniss and Peeta to flee to the roof of the Cornucopia, where they encounter Cato. After a battle, Katniss wounds Cato with an arrow and Peeta hurls him to the creatures below. Katniss shoots Cato to spare him a prolonged death. With Peeta and Katniss apparently victorious, the rule change allowing two winners is suddenly revoked. Peeta tells Katniss to shoot him. Instead, she gives him half of the nightlock. However, before they can commit suicide, they are hastily proclaimed the victors of the 74th Hunger Games. Haymitch warns Katniss that she has made powerful enemies after her display of defiance. She and Peeta return to District 12, while Crane is locked in a room with a bowl of nightlock berries, and President Snow considers the situation.  \n",
       "2                                                                                                                                                                                                                                                                                                                                                                                                                                                                                                                                                                                                                                                                                                                                                                                                                                                                                                                                                                                                                                                                                                                                                                                                                                                                                                                                                                                                                                                                                                                                                                                                                                                                                                                                                                                                                                                                                            Poovalli Induchoodan  is sentenced for six years prison life for murdering his classmate. Induchoodan, the only son of Justice Maranchery Karunakara Menon  was framed in the case by Manapally Madhavan Nambiar  and his crony DYSP Sankaranarayanan  to take revenge on idealist judge Menon who had earlier given jail sentence to Manapally in a corruption case. Induchoodan, who had achieved top rank in Indian Civil Service loses the post and Manapally Sudheeran ([[Saikumar  enters the list of civil service trainees. We learn in flashback that it was Ramakrishnan  the son of Moopil Nair , who had actually killed his classmate. Six years passes by and Manapally Madhavan Nambiar, now a former state minister, is dead and Induchoodan, who is all rage at the gross injustice meted out to him - thus destroying his promising life, is released from prison. Induchoodan thwarts Manapally Pavithran  from performing the funeral rituals of Nambiar at Bharathapuzha. Many confrontations between Induchoodan and Manapally's henchmen follow. Induchoodan also falls in love with Anuradha ([[Aishwarya , the strong-willed and independent-minded daughter of Mooppil Nair. Justice Menon and his wife returns back to Kerala to stay with Induchoodan. There is an appearance of a girl named Indulekha ([[Kanaka , who claims to be the daughter of Justice Menon. Menon flatly refuses the claim and banishes her. Forced by circumstances and at the instigation and help of Manapally Pavithran, she reluctantly come out open with the claim. Induchoodan at first thrashes the protesters. But upon knowing the truth from Chandrabhanu his uncle, he accepts the task of her protection in the capacity as elder brother. Induchoodan decides to marry off Indulekha to his good friend Jayakrishnan . Induchoodan has a confrontation with his father and prods him to accept mistake and acknowledge the parentage of Indulekha. Menon ultimately regrets and goes on to confess to his daughter. The very next day, when Induchoodan returns to Poovally, Indulekha is found dead and Menon is accused of murdering her. The whole act was planned by Pavithran, who after killing Indulekha, forces Raman Nair  to testify against Menon in court. In court, Nandagopal Maarar , a close friend of Induchoodan and a famous supreme court lawyer, appears for Menon and manages to lay bare the murder plot and hidden intentions of other party . Menon is judged innocent of the crime by court. After confronting Pavithran and promising just retribution to the crime of killing Indulekha, Induchoodan returns to his father, who now shows remorse for all his actions including not believing in the innocence of his son. But while speaking to Induchoodan, Menon suffers a heart stroke and passes away. At Menon's funeral, Manapally Pavithran arrives to poke fun at Induchoodan and he also tries to carry out the postponed last rituals of his own father. Induchoodan interrupts the ritual and avenges for the death of his sister and father by severely injuring Pavithran. On his way back to peaceful life, Induchoodan accepts Anuradha as his life partner.  \n",
       "3  The Lemon Drop Kid , a New York City swindler, is illegally touting horses at a Florida racetrack. After several successful hustles, the Kid comes across a beautiful, but gullible, woman intending to bet a lot of money. The Kid convinces her to switch her bet, employing a prefabricated con. Unfortunately for the Kid, the woman \"belongs\" to notorious gangster Moose Moran , as does the money. The Kid's choice finishes dead last and a furious Moran demands the Kid provide him with $10,000  by Christmas Eve, or the Kid \"won't make it to New Year's.\" The Kid decides to return to New York to try to come up with the money. He first tries his on-again, off-again girlfriend Brainy Baxter . However, when talk of long-term commitment arises, the Kid quickly makes an escape. He next visits local crime boss \"Oxford\" Charley , with whom he has had past dealings. This falls through as Charley is in serious tax trouble and does not particularly care for the Kid anyway. As he leaves Charley's establishment and is about to give up hope, the Kid notices a cornerside Santa Claus and his kettle. Thinking quickly, the Kid fashions himself a Santa suit and begins collecting donations. This fails as he is recognized by a passing policeman, who remembers his previous underhanded activity well. The Kid lands in court, where he is convicted of collecting for a charity without a license and sentenced to ten days in jail . However, while in court, the Kid learns where his scheme went wrong. After a short stay, Brainy arrives to bail him out. He then sets about restarting his Santa operation, this time with legitimate backing. To this end, he needs a charity to represent and a city license. The kid receives key inspiration when he remembers that Nellie Thursday , a kindly neighborhood resident, has been denied entry to a retirement home because of her jailed husband's criminal past as a safecracker. Organizing other small-time New York swindlers and Brainy, who is both surprised and charmed at the Kid's apparent goodwill, the Kid converts an abandoned casino  into the \"Nellie Thursday Home For Old Dolls\". A small group of elderly women and makeshift amenities complete the project. The Kid is able to receive the all-important city license. Now free to collect, the Kid and his compatriots dress as Santa Claus and position themselves throughout Manhattan. The others are unaware that the Kid plans to keep the money for himself to pay off Moran. The scheme is a huge success, netting $2,000 in only a few days. An overjoyed Brainy decides to leave her job as a dancer and look after the \"home\" full-time until after Christmas. Coincidentally, her employer is none other than \"Oxford\" Charley, whom Brainy cheerfully informs of the effort. Seeing a potential gold mine, Charley decides to muscle in on the operation. Reasoning that the Nellie Thursday home is \"wherever Nellie Thursday is\", Charley and his crew kidnap the home's inhabitants  and move them to Charley's mansion in Nyack. The Kid learns of this when he returns to the home after a late night to find the home deserted and money  gone. Clued in by oversized Oxford footprints in the snow, the Kid and his friends pay Charley a visit. Here, Charley reveals the true nature of the Kid's scheme through a phone conversation with Moose Moran. The Kid's accomplices are angry and move to confront him, but the Kid manages to slip away. However, Brainy tracks him down outside and voices her disgust at his actions. After a few days of stewing in self-pity , the Kid is surprised to meet Nellie, who has escaped Charley's compound. He decides to recover the money, sneaking into Charley's home in the guise of an elderly woman. He finds that Charley and his crew are again moving the women, this time to a more secure location. Using the heightened activity to his advantage, the Kid enters Charley's office and confronts him. After a brief struggle, the Kid overpowers Charley and makes off with the money, narrowly avoiding the thugs Charley has sent after him. The ensuing chaos allows Brainy and the others to escape. Later that night, the Kid returns to the original Nellie Thursday home to meet with Moose Moran . The deal appears to be in jeopardy as Moran arrives with Charley. Charley demands that the Kid reimburse him, which would leave too little for Moran. However, the Kid turns the tables by hitting a switch, revealing hidden casino tables. All are occupied, mainly by the escaped old dolls. The Kid and his still-loyal friends hold off the gangsters as the police initiate a raid. Moran and Charley are arrested while the judge who sentenced the Kid earlier warns that he will be \"keeping an eye on him\". The Kid assures him that will not be necessary and his attention will lie on the home, which is going to become a reality. The night's main event begins as Nellie's husband Henry, free on parole, joyously reunites with his wife.  \n",
       "4                                                                                                                                                                                                                                                                                                                                                                                                                                                                                                                                                                                                                                                                                                                                                                                                                                                                                                                                                                                                                                                                                                                                                                                                                                                                                                                                                                                                                                                                                                                                                                                                                                                                                                                                                                                                                                                                                                                                                                                                                                                                                                                                                                                                                                                                                                                                                                                                                                                                                                                                                                                              Seventh-day Adventist Church pastor Michael Chamberlain, his wife Lindy, their two sons, and their nine-week-old daughter Azaria are on a camping holiday in the Outback. With the baby sleeping in their tent, the family is enjoying a barbecue with their fellow campers when a cry is heard. Lindy returns to the tent to check on Azaria and is certain she sees a dingo with something in its mouth running off as she approaches. When she discovers the infant is missing, everyone joins forces to search for her, without success. It is assumed what Lindy saw was the animal carrying off the child, and a subsequent inquest rules her account of events is true. The tide of public opinion soon turns against the Chamberlains. For many, Lindy seems too stoic, too cold-hearted, and too accepting of the disaster that has befallen her. Gossip about her begins to swell and soon is accepted as statements of fact. The couple's beliefs are not widely practised in the country, and when the media report a rumour that the name Azaria means \"sacrifice in the wilderness\" , the public is quick to believe they decapitated their baby with a pair of scissors as part of a bizarre religious rite. Law-enforcement officials find new witnesses, forensics experts, and a lot of circumstantial evidence—including a small wooden coffin Michael uses as a receptacle for his parishioners' packs of un-smoked cigarettes—and reopen the investigation, and eventually Lindy is charged with murder. Seven months pregnant, she ignores her attorneys' advice to play on the jury's sympathy and appears emotionless on the stand, convincing onlookers she is guilty of the crime of which she is accused. As the trial progresses, Michael's faith in his religion and his belief in his wife disintegrate, and he stumbles through his testimony, suggesting he is concealing the truth. In October 1982, Lindy is found guilty and sentenced to life imprisonment with hard labour, while Michael is found guilty as an accessory and given an 18-month suspended sentence. More than three years later, while searching for the body of an English tourist who fell from Uluru, police discover a small item of clothing that is identified as the jacket Lindy had insisted Azaria was wearing over her jumpsuit, which had been recovered early in the investigation. She is immediately released from prison, the case reopened and all convictions against the Chamberlains overturned.  "
      ]
     },
     "execution_count": 4,
     "metadata": {},
     "output_type": "execute_result"
    }
   ],
   "source": [
    "pd.options.display.max_rows\n",
    "pd.set_option('display.max_colwidth', None)\n",
    "\n",
    "df.head(5)"
   ]
  },
  {
   "cell_type": "markdown",
   "metadata": {},
   "source": [
    "To check the number of rows and columns, use the `shape` property."
   ]
  },
  {
   "cell_type": "code",
   "execution_count": 5,
   "metadata": {},
   "outputs": [
    {
     "data": {
      "text/plain": [
       "(42303, 2)"
      ]
     },
     "execution_count": 5,
     "metadata": {},
     "output_type": "execute_result"
    }
   ],
   "source": [
    "df.shape"
   ]
  },
  {
   "cell_type": "markdown",
   "metadata": {},
   "source": [
    "Now examine the metadata. The [dataset documentation](http://www.cs.cmu.edu/~ark/personas/data/README.txt) explains that the data contains nine fields. Load the data into a pandas DataFrame and specify the column names."
   ]
  },
  {
   "cell_type": "code",
   "execution_count": 6,
   "metadata": {},
   "outputs": [
    {
     "data": {
      "text/html": [
       "<div>\n",
       "<style scoped>\n",
       "    .dataframe tbody tr th:only-of-type {\n",
       "        vertical-align: middle;\n",
       "    }\n",
       "\n",
       "    .dataframe tbody tr th {\n",
       "        vertical-align: top;\n",
       "    }\n",
       "\n",
       "    .dataframe thead th {\n",
       "        text-align: right;\n",
       "    }\n",
       "</style>\n",
       "<table border=\"1\" class=\"dataframe\">\n",
       "  <thead>\n",
       "    <tr style=\"text-align: right;\">\n",
       "      <th></th>\n",
       "      <th>movie_id</th>\n",
       "      <th>freebase_id</th>\n",
       "      <th>name</th>\n",
       "      <th>release_date</th>\n",
       "      <th>box_office_revenue</th>\n",
       "      <th>runtime</th>\n",
       "      <th>languages</th>\n",
       "      <th>countries</th>\n",
       "      <th>genres</th>\n",
       "    </tr>\n",
       "  </thead>\n",
       "  <tbody>\n",
       "    <tr>\n",
       "      <th>0</th>\n",
       "      <td>975900</td>\n",
       "      <td>/m/03vyhn</td>\n",
       "      <td>Ghosts of Mars</td>\n",
       "      <td>2001-08-24</td>\n",
       "      <td>14010832.0</td>\n",
       "      <td>98.0</td>\n",
       "      <td>{\"/m/02h40lc\": \"English Language\"}</td>\n",
       "      <td>{\"/m/09c7w0\": \"United States of America\"}</td>\n",
       "      <td>{\"/m/01jfsb\": \"Thriller\", \"/m/06n90\": \"Science Fiction\", \"/m/03npn\": \"Horror\", \"/m/03k9fj\": \"Adventure\", \"/m/0fdjb\": \"Supernatural\", \"/m/02kdv5l\": \"Action\", \"/m/09zvmj\": \"Space western\"}</td>\n",
       "    </tr>\n",
       "    <tr>\n",
       "      <th>1</th>\n",
       "      <td>3196793</td>\n",
       "      <td>/m/08yl5d</td>\n",
       "      <td>Getting Away with Murder: The JonBenét Ramsey Mystery</td>\n",
       "      <td>2000-02-16</td>\n",
       "      <td>NaN</td>\n",
       "      <td>95.0</td>\n",
       "      <td>{\"/m/02h40lc\": \"English Language\"}</td>\n",
       "      <td>{\"/m/09c7w0\": \"United States of America\"}</td>\n",
       "      <td>{\"/m/02n4kr\": \"Mystery\", \"/m/03bxz7\": \"Biographical film\", \"/m/07s9rl0\": \"Drama\", \"/m/0hj3n01\": \"Crime Drama\"}</td>\n",
       "    </tr>\n",
       "    <tr>\n",
       "      <th>2</th>\n",
       "      <td>28463795</td>\n",
       "      <td>/m/0crgdbh</td>\n",
       "      <td>Brun bitter</td>\n",
       "      <td>1988</td>\n",
       "      <td>NaN</td>\n",
       "      <td>83.0</td>\n",
       "      <td>{\"/m/05f_3\": \"Norwegian Language\"}</td>\n",
       "      <td>{\"/m/05b4w\": \"Norway\"}</td>\n",
       "      <td>{\"/m/0lsxr\": \"Crime Fiction\", \"/m/07s9rl0\": \"Drama\"}</td>\n",
       "    </tr>\n",
       "    <tr>\n",
       "      <th>3</th>\n",
       "      <td>9363483</td>\n",
       "      <td>/m/0285_cd</td>\n",
       "      <td>White Of The Eye</td>\n",
       "      <td>1987</td>\n",
       "      <td>NaN</td>\n",
       "      <td>110.0</td>\n",
       "      <td>{\"/m/02h40lc\": \"English Language\"}</td>\n",
       "      <td>{\"/m/07ssc\": \"United Kingdom\"}</td>\n",
       "      <td>{\"/m/01jfsb\": \"Thriller\", \"/m/0glj9q\": \"Erotic thriller\", \"/m/09blyk\": \"Psychological thriller\"}</td>\n",
       "    </tr>\n",
       "    <tr>\n",
       "      <th>4</th>\n",
       "      <td>261236</td>\n",
       "      <td>/m/01mrr1</td>\n",
       "      <td>A Woman in Flames</td>\n",
       "      <td>1983</td>\n",
       "      <td>NaN</td>\n",
       "      <td>106.0</td>\n",
       "      <td>{\"/m/04306rv\": \"German Language\"}</td>\n",
       "      <td>{\"/m/0345h\": \"Germany\"}</td>\n",
       "      <td>{\"/m/07s9rl0\": \"Drama\"}</td>\n",
       "    </tr>\n",
       "  </tbody>\n",
       "</table>\n",
       "</div>"
      ],
      "text/plain": [
       "   movie_id freebase_id  \\\n",
       "0    975900   /m/03vyhn   \n",
       "1   3196793   /m/08yl5d   \n",
       "2  28463795  /m/0crgdbh   \n",
       "3   9363483  /m/0285_cd   \n",
       "4    261236   /m/01mrr1   \n",
       "\n",
       "                                                    name release_date  \\\n",
       "0                                         Ghosts of Mars   2001-08-24   \n",
       "1  Getting Away with Murder: The JonBenét Ramsey Mystery   2000-02-16   \n",
       "2                                            Brun bitter         1988   \n",
       "3                                       White Of The Eye         1987   \n",
       "4                                      A Woman in Flames         1983   \n",
       "\n",
       "   box_office_revenue  runtime                           languages  \\\n",
       "0          14010832.0     98.0  {\"/m/02h40lc\": \"English Language\"}   \n",
       "1                 NaN     95.0  {\"/m/02h40lc\": \"English Language\"}   \n",
       "2                 NaN     83.0  {\"/m/05f_3\": \"Norwegian Language\"}   \n",
       "3                 NaN    110.0  {\"/m/02h40lc\": \"English Language\"}   \n",
       "4                 NaN    106.0   {\"/m/04306rv\": \"German Language\"}   \n",
       "\n",
       "                                   countries  \\\n",
       "0  {\"/m/09c7w0\": \"United States of America\"}   \n",
       "1  {\"/m/09c7w0\": \"United States of America\"}   \n",
       "2                     {\"/m/05b4w\": \"Norway\"}   \n",
       "3             {\"/m/07ssc\": \"United Kingdom\"}   \n",
       "4                    {\"/m/0345h\": \"Germany\"}   \n",
       "\n",
       "                                                                                                                                                                                       genres  \n",
       "0  {\"/m/01jfsb\": \"Thriller\", \"/m/06n90\": \"Science Fiction\", \"/m/03npn\": \"Horror\", \"/m/03k9fj\": \"Adventure\", \"/m/0fdjb\": \"Supernatural\", \"/m/02kdv5l\": \"Action\", \"/m/09zvmj\": \"Space western\"}  \n",
       "1                                                                              {\"/m/02n4kr\": \"Mystery\", \"/m/03bxz7\": \"Biographical film\", \"/m/07s9rl0\": \"Drama\", \"/m/0hj3n01\": \"Crime Drama\"}  \n",
       "2                                                                                                                                        {\"/m/0lsxr\": \"Crime Fiction\", \"/m/07s9rl0\": \"Drama\"}  \n",
       "3                                                                                            {\"/m/01jfsb\": \"Thriller\", \"/m/0glj9q\": \"Erotic thriller\", \"/m/09blyk\": \"Psychological thriller\"}  \n",
       "4                                                                                                                                                                     {\"/m/07s9rl0\": \"Drama\"}  "
      ]
     },
     "execution_count": 6,
     "metadata": {},
     "output_type": "execute_result"
    }
   ],
   "source": [
    "movie_meta_df = pd.read_csv('../data/movie.metadata.tsv', sep='\\t', names=['movie_id','freebase_id','name','release_date','box_office_revenue','runtime','languages','countries','genres'])\n",
    "movie_meta_df.head()"
   ]
  },
  {
   "cell_type": "markdown",
   "metadata": {},
   "source": [
    "Set the index to **movie_id**, which will make it easier to merge this dataset with the plot."
   ]
  },
  {
   "cell_type": "code",
   "execution_count": 7,
   "metadata": {},
   "outputs": [],
   "source": [
    "movie_meta_df.set_index('movie_id', inplace=True)"
   ]
  },
  {
   "cell_type": "markdown",
   "metadata": {},
   "source": [
    "Because you only need the movie name and something to link this metadata to the plot (**movie_id**), drop the remaining columns."
   ]
  },
  {
   "cell_type": "code",
   "execution_count": 8,
   "metadata": {},
   "outputs": [
    {
     "data": {
      "text/html": [
       "<div>\n",
       "<style scoped>\n",
       "    .dataframe tbody tr th:only-of-type {\n",
       "        vertical-align: middle;\n",
       "    }\n",
       "\n",
       "    .dataframe tbody tr th {\n",
       "        vertical-align: top;\n",
       "    }\n",
       "\n",
       "    .dataframe thead th {\n",
       "        text-align: right;\n",
       "    }\n",
       "</style>\n",
       "<table border=\"1\" class=\"dataframe\">\n",
       "  <thead>\n",
       "    <tr style=\"text-align: right;\">\n",
       "      <th></th>\n",
       "      <th>name</th>\n",
       "    </tr>\n",
       "    <tr>\n",
       "      <th>movie_id</th>\n",
       "      <th></th>\n",
       "    </tr>\n",
       "  </thead>\n",
       "  <tbody>\n",
       "    <tr>\n",
       "      <th>975900</th>\n",
       "      <td>Ghosts of Mars</td>\n",
       "    </tr>\n",
       "    <tr>\n",
       "      <th>3196793</th>\n",
       "      <td>Getting Away with Murder: The JonBenét Ramsey Mystery</td>\n",
       "    </tr>\n",
       "    <tr>\n",
       "      <th>28463795</th>\n",
       "      <td>Brun bitter</td>\n",
       "    </tr>\n",
       "    <tr>\n",
       "      <th>9363483</th>\n",
       "      <td>White Of The Eye</td>\n",
       "    </tr>\n",
       "    <tr>\n",
       "      <th>261236</th>\n",
       "      <td>A Woman in Flames</td>\n",
       "    </tr>\n",
       "  </tbody>\n",
       "</table>\n",
       "</div>"
      ],
      "text/plain": [
       "                                                           name\n",
       "movie_id                                                       \n",
       "975900                                           Ghosts of Mars\n",
       "3196793   Getting Away with Murder: The JonBenét Ramsey Mystery\n",
       "28463795                                            Brun bitter\n",
       "9363483                                        White Of The Eye\n",
       "261236                                        A Woman in Flames"
      ]
     },
     "execution_count": 8,
     "metadata": {},
     "output_type": "execute_result"
    }
   ],
   "source": [
    "movie_meta_df=movie_meta_df.drop(['freebase_id','release_date','box_office_revenue','runtime','languages','countries','genres'], axis=1)\n",
    "movie_meta_df.head()"
   ]
  },
  {
   "cell_type": "markdown",
   "metadata": {},
   "source": [
    "## 3. Extracting topics\n",
    "([Go to top](#Challenge-Lab-6.3:-Implementing-Topic-Extraction))\n",
    "\n",
    "You must now decide if you are going to use Amazon Comprehend or the SageMaker NTM algorithm to extract your topics. Both will do a good job of giving you topics, but each has different data requirements.\n",
    "\n",
    "Refer to the notebooks from labs 6.1 and 6.2 for any code snippets you might need for each solution. Experiment with the number of topics to see if you can get better results. \n",
    "\n",
    "Questions to address:\n",
    "\n",
    "1. What data cleanup do you need to perform?\n",
    "\n",
    "2. How many topics will give you the best results?"
   ]
  },
  {
   "cell_type": "code",
   "execution_count": 9,
   "metadata": {},
   "outputs": [
    {
     "data": {
      "text/html": [
       "<div>\n",
       "<style scoped>\n",
       "    .dataframe tbody tr th:only-of-type {\n",
       "        vertical-align: middle;\n",
       "    }\n",
       "\n",
       "    .dataframe tbody tr th {\n",
       "        vertical-align: top;\n",
       "    }\n",
       "\n",
       "    .dataframe thead th {\n",
       "        text-align: right;\n",
       "    }\n",
       "</style>\n",
       "<table border=\"1\" class=\"dataframe\">\n",
       "  <thead>\n",
       "    <tr style=\"text-align: right;\">\n",
       "      <th></th>\n",
       "      <th>movie_id</th>\n",
       "      <th>processed_plot</th>\n",
       "    </tr>\n",
       "  </thead>\n",
       "  <tbody>\n",
       "    <tr>\n",
       "      <th>0</th>\n",
       "      <td>23890098</td>\n",
       "      <td>shlykov hard working taxi driver lyosha saxophonist develop bizarre love hate relationship despite prejudice realize different</td>\n",
       "    </tr>\n",
       "    <tr>\n",
       "      <th>1</th>\n",
       "      <td>31186339</td>\n",
       "      <td>nation panem consists wealthy capitol twelve poorer district punishment past rebellion district must provide boy girl age selected lottery annual hunger game tribute must fight death arena sole survivor rewarded fame wealth first reaping year old primrose everdeen chosen district older sister katniss volunteer take place peeta mellark baker son gave katniss bread starving district tribute katniss peeta taken capitol accompanied frequently drunk mentor past victor haymitch abernathy warns career tribute train intensively special academy almost always win interview caesar flickerman peeta unexpectedly reveals love katniss outraged believing ploy gain audience support sponsor may provide game gift food medicine tool however discovers peeta meant said televised game begin half tribute killed first minute katniss barely survives ignoring haymitch advice run away melee tempting supply weapon strewn front structure called cornucopia peeta form uneasy alliance four career later find katniss corner tree rue hiding nearby tree draw attention poisonous tracker jacker nest hanging branch katniss drop sleeping besieger scatter except glimmer killed insect hallucinating due tracker jacker venom katniss warned run away peeta rue care katniss couple day recovers meanwhile alliance gathered supply pile katniss rue draw destroys stockpile setting mine planted around furious cato kill boy assigned guard katniss run scene hears rue calling name find rue trapped release marvel tribute district throw spear katniss dodge spear causing stab rue stomach instead katniss shoot dead arrow comfort dying rue song afterward gather arranges flower around rue body televised spark riot rue district president snow summons seneca crane gamemaker express displeasure way game turning since katniss peeta presented public star crossed lover haymitch able convince crane make rule change avoid inciting riot announced tribute district win pair upon hearing katniss search peeta find infected sword wound leg portrays deeply love gain sponsor gift soup announcer proclaims feast thing survivor need provided peeta begs risk getting medicine katniss promise fall asleep head feast clove ambush pin clove gloat thresh district tribute kill clove overhearing tormenting katniss killing rue spare katniss time rue medicine work keeping peeta mobile foxface girl district dy eating nightlock berry stole peeta neither knew highly poisonous crane change time day arena late night unleashes pack hound like creature speed thing kill thresh force katniss peeta flee roof cornucopia encounter cato battle katniss wound cato arrow peeta hurl creature katniss shoot cato spare prolonged death peeta katniss apparently victorious rule change allowing two winner suddenly revoked peeta tell katniss shoot instead give half nightlock however commit suicide hastily proclaimed victor 74th hunger game haymitch warns katniss made powerful enemy display defiance peeta return district crane locked room bowl nightlock berry president snow considers situation</td>\n",
       "    </tr>\n",
       "    <tr>\n",
       "      <th>2</th>\n",
       "      <td>20663735</td>\n",
       "      <td>poovalli induchoodan sentenced six year prison life murdering classmate induchoodan son justice maranchery karunakara menon framed case manapally madhavan nambiar crony dysp sankaranarayanan take revenge idealist judge menon earlier given jail sentence manapally corruption case induchoodan achieved top rank indian civil service loses post manapally sudheeran saikumar enters list civil service trainee learn flashback ramakrishnan son moopil nair actually killed classmate six year pass manapally madhavan nambiar former state minister dead induchoodan rage gross injustice meted thus destroying promising life released prison induchoodan thwart manapally pavithran performing funeral ritual nambiar bharathapuzha many confrontation induchoodan manapally henchman follow induchoodan also fall love anuradha aishwarya strong willed independent minded daughter mooppil nair justice menon wife return back kerala stay induchoodan appearance girl named indulekha kanaka claim daughter justice menon menon flatly refuse claim banishes forced circumstance instigation help manapally pavithran reluctantly come open claim induchoodan first thrash protester upon knowing truth chandrabhanu uncle accepts task protection capacity elder brother induchoodan decides marry indulekha good friend jayakrishnan induchoodan confrontation father prod accept mistake acknowledge parentage indulekha menon ultimately regret go confess daughter next day induchoodan return poovally indulekha found dead menon accused murdering whole act planned pavithran killing indulekha force raman nair testify menon court court nandagopal maarar close friend induchoodan famous supreme court lawyer appears menon manages lay bare murder plot hidden intention party menon judged innocent crime court confronting pavithran promising retribution crime killing indulekha induchoodan return father show remorse action including believing innocence son speaking induchoodan menon suffers heart stroke pass away menon funeral manapally pavithran arrives poke fun induchoodan also try carry postponed last ritual father induchoodan interrupt ritual avenges death sister father severely injuring pavithran way back peaceful life induchoodan accepts anuradha life partner</td>\n",
       "    </tr>\n",
       "    <tr>\n",
       "      <th>3</th>\n",
       "      <td>2231378</td>\n",
       "      <td>lemon drop kid new york city swindler illegally touting horse florida racetrack several successful hustle kid come across beautiful gullible woman intending bet lot money kid convinces switch bet employing prefabricated con unfortunately kid woman belongs notorious gangster moose moran money kid choice finish dead last furious moran demand kid provide 000 christmas eve kid make new year kid decides return new york try come money first try girlfriend brainy baxter however talk long term commitment arises kid quickly make escape next visit local crime bos oxford charley past dealing fall charley serious tax trouble particularly care kid anyway leaf charley establishment give hope kid notice cornerside santa claus kettle thinking quickly kid fashion santa suit begin collecting donation fails recognized passing policeman remembers previous underhanded activity well kid land court convicted collecting charity without license sentenced ten day jail however court kid learns scheme went wrong short stay brainy arrives bail set restarting santa operation time legitimate backing end need charity represent city license kid receives key inspiration remembers nellie thursday kindly neighborhood resident denied entry retirement home jailed husband criminal past safecracker organizing small time new york swindler brainy surprised charmed kid apparent goodwill kid convert abandoned casino nellie thursday home old doll small group elderly woman makeshift amenity complete project kid able receive important city license free collect kid compatriot dress santa claus position throughout manhattan others unaware kid plan keep money pay moran scheme huge success netting 000 day overjoyed brainy decides leave job dancer look home full time christmas coincidentally employer none oxford charley brainy cheerfully informs effort seeing potential gold mine charley decides muscle operation reasoning nellie thursday home wherever nellie thursday charley crew kidnap home inhabitant move charley mansion nyack kid learns return home late night find home deserted money gone clued oversized oxford footprint snow kid friend pay charley visit charley reveals true nature kid scheme phone conversation moose moran kid accomplice angry move confront kid manages slip away however brainy track outside voice disgust action day stewing self pity kid surprised meet nellie escaped charley compound decides recover money sneaking charley home guise elderly woman find charley crew moving woman time secure location using heightened activity advantage kid enters charley office confronts brief struggle kid overpowers charley make money narrowly avoiding thug charley sent ensuing chaos allows brainy others escape later night kid return original nellie thursday home meet moose moran deal appears jeopardy moran arrives charley charley demand kid reimburse would leave little moran however kid turn table hitting switch revealing hidden casino table occupied mainly escaped old doll kid still loyal friend hold gangster police initiate raid moran charley arrested judge sentenced kid earlier warns keeping eye kid assures necessary attention lie home going become reality night main event begin nellie husband henry free parole joyously reunites wife</td>\n",
       "    </tr>\n",
       "    <tr>\n",
       "      <th>4</th>\n",
       "      <td>595909</td>\n",
       "      <td>seventh day adventist church pastor michael chamberlain wife lindy two son nine week old daughter azaria camping holiday outback baby sleeping tent family enjoying barbecue fellow camper cry heard lindy return tent check azaria certain see dingo something mouth running approach discovers infant missing everyone join force search without success assumed lindy saw animal carrying child subsequent inquest rule account event true tide public opinion soon turn chamberlain many lindy seems stoic cold hearted accepting disaster befallen gossip begin swell soon accepted statement fact couple belief widely practised country medium report rumour name azaria mean sacrifice wilderness public quick believe decapitated baby pair scissors part bizarre religious rite law enforcement official find new witness forensics expert lot circumstantial evidence including small wooden coffin michael us receptacle parishioner pack smoked cigarette reopen investigation eventually lindy charged murder seven month pregnant ignores attorney advice play jury sympathy appears emotionless stand convincing onlooker guilty crime accused trial progress michael faith religion belief wife disintegrate stumble testimony suggesting concealing truth october 1982 lindy found guilty sentenced life imprisonment hard labour michael found guilty accessory given month suspended sentence three year later searching body english tourist fell uluru police discover small item clothing identified jacket lindy insisted azaria wearing jumpsuit recovered early investigation immediately released prison case reopened conviction chamberlain overturned</td>\n",
       "    </tr>\n",
       "  </tbody>\n",
       "</table>\n",
       "</div>"
      ],
      "text/plain": [
       "   movie_id  \\\n",
       "0  23890098   \n",
       "1  31186339   \n",
       "2  20663735   \n",
       "3   2231378   \n",
       "4    595909   \n",
       "\n",
       "                                                                                                                                                                                                                                                                                                                                                                                                                                                                                                                                                                                                                                                                                                                                                                                                                                                                                                                                                                                                                                                                                                                                                                                                                                                                                                                                                                                                                                                                                                                                                                                                                                                                                                                                                                                                                                                                                                                                                                                                                                                                                                                                                                                                                                                                                                                                                                                                                                                                                                                                                                                                                                                                                                                                                                                                                                                                                                                                                                                                                                                                                                                                                                                                                                                                                                                                                                 processed_plot  \n",
       "0                                                                                                                                                                                                                                                                                                                                                                                                                                                                                                                                                                                                                                                                                                                                                                                                                                                                                                                                                                                                                                                                                                                                                                                                                                                                                                                                                                                                                                                                                                                                                                                                                                                                                                                                                                                                                                                                                                                                                                                                                                                                                                                                                                                                                                                                                                                                                                                                                                                                                                                                                                                                                                                                                                                                                                                                                                                                                                                                                                                                                                                                                                                                                                                                                                                shlykov hard working taxi driver lyosha saxophonist develop bizarre love hate relationship despite prejudice realize different  \n",
       "1                                                                                                                                                                                                                       nation panem consists wealthy capitol twelve poorer district punishment past rebellion district must provide boy girl age selected lottery annual hunger game tribute must fight death arena sole survivor rewarded fame wealth first reaping year old primrose everdeen chosen district older sister katniss volunteer take place peeta mellark baker son gave katniss bread starving district tribute katniss peeta taken capitol accompanied frequently drunk mentor past victor haymitch abernathy warns career tribute train intensively special academy almost always win interview caesar flickerman peeta unexpectedly reveals love katniss outraged believing ploy gain audience support sponsor may provide game gift food medicine tool however discovers peeta meant said televised game begin half tribute killed first minute katniss barely survives ignoring haymitch advice run away melee tempting supply weapon strewn front structure called cornucopia peeta form uneasy alliance four career later find katniss corner tree rue hiding nearby tree draw attention poisonous tracker jacker nest hanging branch katniss drop sleeping besieger scatter except glimmer killed insect hallucinating due tracker jacker venom katniss warned run away peeta rue care katniss couple day recovers meanwhile alliance gathered supply pile katniss rue draw destroys stockpile setting mine planted around furious cato kill boy assigned guard katniss run scene hears rue calling name find rue trapped release marvel tribute district throw spear katniss dodge spear causing stab rue stomach instead katniss shoot dead arrow comfort dying rue song afterward gather arranges flower around rue body televised spark riot rue district president snow summons seneca crane gamemaker express displeasure way game turning since katniss peeta presented public star crossed lover haymitch able convince crane make rule change avoid inciting riot announced tribute district win pair upon hearing katniss search peeta find infected sword wound leg portrays deeply love gain sponsor gift soup announcer proclaims feast thing survivor need provided peeta begs risk getting medicine katniss promise fall asleep head feast clove ambush pin clove gloat thresh district tribute kill clove overhearing tormenting katniss killing rue spare katniss time rue medicine work keeping peeta mobile foxface girl district dy eating nightlock berry stole peeta neither knew highly poisonous crane change time day arena late night unleashes pack hound like creature speed thing kill thresh force katniss peeta flee roof cornucopia encounter cato battle katniss wound cato arrow peeta hurl creature katniss shoot cato spare prolonged death peeta katniss apparently victorious rule change allowing two winner suddenly revoked peeta tell katniss shoot instead give half nightlock however commit suicide hastily proclaimed victor 74th hunger game haymitch warns katniss made powerful enemy display defiance peeta return district crane locked room bowl nightlock berry president snow considers situation  \n",
       "2                                                                                                                                                                                                                                                                                                                                                                                                                                                                                                                                                                                                                                                                                                                                                                                                                                                                                                                                                                                                                                                       poovalli induchoodan sentenced six year prison life murdering classmate induchoodan son justice maranchery karunakara menon framed case manapally madhavan nambiar crony dysp sankaranarayanan take revenge idealist judge menon earlier given jail sentence manapally corruption case induchoodan achieved top rank indian civil service loses post manapally sudheeran saikumar enters list civil service trainee learn flashback ramakrishnan son moopil nair actually killed classmate six year pass manapally madhavan nambiar former state minister dead induchoodan rage gross injustice meted thus destroying promising life released prison induchoodan thwart manapally pavithran performing funeral ritual nambiar bharathapuzha many confrontation induchoodan manapally henchman follow induchoodan also fall love anuradha aishwarya strong willed independent minded daughter mooppil nair justice menon wife return back kerala stay induchoodan appearance girl named indulekha kanaka claim daughter justice menon menon flatly refuse claim banishes forced circumstance instigation help manapally pavithran reluctantly come open claim induchoodan first thrash protester upon knowing truth chandrabhanu uncle accepts task protection capacity elder brother induchoodan decides marry indulekha good friend jayakrishnan induchoodan confrontation father prod accept mistake acknowledge parentage indulekha menon ultimately regret go confess daughter next day induchoodan return poovally indulekha found dead menon accused murdering whole act planned pavithran killing indulekha force raman nair testify menon court court nandagopal maarar close friend induchoodan famous supreme court lawyer appears menon manages lay bare murder plot hidden intention party menon judged innocent crime court confronting pavithran promising retribution crime killing indulekha induchoodan return father show remorse action including believing innocence son speaking induchoodan menon suffers heart stroke pass away menon funeral manapally pavithran arrives poke fun induchoodan also try carry postponed last ritual father induchoodan interrupt ritual avenges death sister father severely injuring pavithran way back peaceful life induchoodan accepts anuradha life partner  \n",
       "3  lemon drop kid new york city swindler illegally touting horse florida racetrack several successful hustle kid come across beautiful gullible woman intending bet lot money kid convinces switch bet employing prefabricated con unfortunately kid woman belongs notorious gangster moose moran money kid choice finish dead last furious moran demand kid provide 000 christmas eve kid make new year kid decides return new york try come money first try girlfriend brainy baxter however talk long term commitment arises kid quickly make escape next visit local crime bos oxford charley past dealing fall charley serious tax trouble particularly care kid anyway leaf charley establishment give hope kid notice cornerside santa claus kettle thinking quickly kid fashion santa suit begin collecting donation fails recognized passing policeman remembers previous underhanded activity well kid land court convicted collecting charity without license sentenced ten day jail however court kid learns scheme went wrong short stay brainy arrives bail set restarting santa operation time legitimate backing end need charity represent city license kid receives key inspiration remembers nellie thursday kindly neighborhood resident denied entry retirement home jailed husband criminal past safecracker organizing small time new york swindler brainy surprised charmed kid apparent goodwill kid convert abandoned casino nellie thursday home old doll small group elderly woman makeshift amenity complete project kid able receive important city license free collect kid compatriot dress santa claus position throughout manhattan others unaware kid plan keep money pay moran scheme huge success netting 000 day overjoyed brainy decides leave job dancer look home full time christmas coincidentally employer none oxford charley brainy cheerfully informs effort seeing potential gold mine charley decides muscle operation reasoning nellie thursday home wherever nellie thursday charley crew kidnap home inhabitant move charley mansion nyack kid learns return home late night find home deserted money gone clued oversized oxford footprint snow kid friend pay charley visit charley reveals true nature kid scheme phone conversation moose moran kid accomplice angry move confront kid manages slip away however brainy track outside voice disgust action day stewing self pity kid surprised meet nellie escaped charley compound decides recover money sneaking charley home guise elderly woman find charley crew moving woman time secure location using heightened activity advantage kid enters charley office confronts brief struggle kid overpowers charley make money narrowly avoiding thug charley sent ensuing chaos allows brainy others escape later night kid return original nellie thursday home meet moose moran deal appears jeopardy moran arrives charley charley demand kid reimburse would leave little moran however kid turn table hitting switch revealing hidden casino table occupied mainly escaped old doll kid still loyal friend hold gangster police initiate raid moran charley arrested judge sentenced kid earlier warns keeping eye kid assures necessary attention lie home going become reality night main event begin nellie husband henry free parole joyously reunites wife  \n",
       "4                                                                                                                                                                                                                                                                                                                                                                                                                                                                                                                                                                                                                                                                                                                                                                                                                                                                                                                                                                                                                                                                                                                                                                                                                                                                                                                                                                                                                                                                                                                                                                                                                                                                                           seventh day adventist church pastor michael chamberlain wife lindy two son nine week old daughter azaria camping holiday outback baby sleeping tent family enjoying barbecue fellow camper cry heard lindy return tent check azaria certain see dingo something mouth running approach discovers infant missing everyone join force search without success assumed lindy saw animal carrying child subsequent inquest rule account event true tide public opinion soon turn chamberlain many lindy seems stoic cold hearted accepting disaster befallen gossip begin swell soon accepted statement fact couple belief widely practised country medium report rumour name azaria mean sacrifice wilderness public quick believe decapitated baby pair scissors part bizarre religious rite law enforcement official find new witness forensics expert lot circumstantial evidence including small wooden coffin michael us receptacle parishioner pack smoked cigarette reopen investigation eventually lindy charged murder seven month pregnant ignores attorney advice play jury sympathy appears emotionless stand convincing onlooker guilty crime accused trial progress michael faith religion belief wife disintegrate stumble testimony suggesting concealing truth october 1982 lindy found guilty sentenced life imprisonment hard labour michael found guilty accessory given month suspended sentence three year later searching body english tourist fell uluru police discover small item clothing identified jacket lindy insisted azaria wearing jumpsuit recovered early investigation immediately released prison case reopened conviction chamberlain overturned  "
      ]
     },
     "execution_count": 9,
     "metadata": {},
     "output_type": "execute_result"
    }
   ],
   "source": [
    "# Initialize a tokenizer and lemmatizer\n",
    "tokenizer = RegexpTokenizer(r'\\w+')\n",
    "lemmatizer = WordNetLemmatizer()\n",
    "\n",
    "# Download stopwords\n",
    "stop_words = set(stopwords.words('english'))\n",
    "\n",
    "def preprocess_text(text):\n",
    "    tokens = tokenizer.tokenize(text.lower())  # Tokenize and lowercase\n",
    "    tokens = [lemmatizer.lemmatize(word) for word in tokens if word not in stop_words and len(word) > 2]  # Lemmatize\n",
    "    return ' '.join(tokens)\n",
    "\n",
    "# Apply preprocessing to the plot column\n",
    "df['processed_plot'] = df['plot'].apply(preprocess_text)\n",
    "\n",
    "# Preview the processed data\n",
    "df[['movie_id', 'processed_plot']].head(5)"
   ]
  },
  {
   "cell_type": "code",
   "execution_count": 11,
   "metadata": {},
   "outputs": [],
   "source": [
    "# Initialize S3 client\n",
    "s3_client = boto3.client('s3')\n",
    "\n",
    "# Define S3 bucket and file path\n",
    "bucket = 'c125984a3128011l7679056t1w199902952632-labbucket-owxxnbun3jgz'\n",
    "file_path = 'path/to/processed_plot_data.csv'\n",
    "\n",
    "# Save the processed data to a local file\n",
    "df[['processed_plot']].to_csv('processed_plot_data.csv', index=False)\n",
    "\n",
    "# Upload the file to S3\n",
    "s3_client.upload_file('processed_plot_data.csv', bucket, file_path)"
   ]
  },
  {
   "cell_type": "code",
   "execution_count": 13,
   "metadata": {},
   "outputs": [
    {
     "name": "stdout",
     "output_type": "stream",
     "text": [
      "Topic modeling job started: ccffbc1c4c551f56105e8d75e34f74f3\n"
     ]
    }
   ],
   "source": [
    "comprehend_client = boto3.client('comprehend')\n",
    "\n",
    "response = comprehend_client.start_topics_detection_job(\n",
    "    JobName=f\"top-job-{uuid.uuid1()}\",\n",
    "    InputDataConfig={\n",
    "        'S3Uri': f's3://{bucket}/{file_path}',\n",
    "        'InputFormat': 'ONE_DOC_PER_LINE'\n",
    "    },\n",
    "    OutputDataConfig={\n",
    "        'S3Uri': f's3://{bucket}/output/',\n",
    "    },\n",
    "    DataAccessRoleArn='arn:aws:iam::199902952632:role/service-role/c125984a3128011l7679056t1w-ComprehendDataAccessRole-S5V4dviXZ8eE',\n",
    "    NumberOfTopics=10  # Specify the number of topics\n",
    ")\n",
    "\n",
    "job_id = response['JobId']\n",
    "print(f'Topic modeling job started: {job_id}')"
   ]
  },
  {
   "cell_type": "code",
   "execution_count": 14,
   "metadata": {},
   "outputs": [
    {
     "name": "stdout",
     "output_type": "stream",
     "text": [
      "Job Status: IN_PROGRESS\n"
     ]
    }
   ],
   "source": [
    "# Monitor the job status\n",
    "job_status = comprehend_client.describe_topics_detection_job(JobId=job_id)['TopicsDetectionJobProperties']['JobStatus']\n",
    "print(f'Job Status: {job_status}')"
   ]
  },
  {
   "cell_type": "code",
   "execution_count": 15,
   "metadata": {},
   "outputs": [
    {
     "name": "stdout",
     "output_type": "stream",
     "text": [
      "Job Status: IN_PROGRESS\n",
      "Job Status: IN_PROGRESS\n",
      "Job Status: IN_PROGRESS\n",
      "Job Status: IN_PROGRESS\n",
      "Job Status: IN_PROGRESS\n",
      "Job Status: IN_PROGRESS\n",
      "Job Status: IN_PROGRESS\n",
      "Job Status: IN_PROGRESS\n",
      "Job Status: IN_PROGRESS\n",
      "Job Status: IN_PROGRESS\n",
      "Job Status: IN_PROGRESS\n",
      "Job Status: IN_PROGRESS\n",
      "Job Status: IN_PROGRESS\n",
      "Job Status: IN_PROGRESS\n",
      "Job Status: IN_PROGRESS\n",
      "Job Status: IN_PROGRESS\n",
      "Job Status: IN_PROGRESS\n",
      "Job Status: IN_PROGRESS\n",
      "Job Status: IN_PROGRESS\n",
      "Job Status: IN_PROGRESS\n",
      "Job Status: IN_PROGRESS\n",
      "Job Status: IN_PROGRESS\n",
      "Job Status: IN_PROGRESS\n",
      "Job Status: IN_PROGRESS\n",
      "Job Status: IN_PROGRESS\n",
      "Job Status: IN_PROGRESS\n",
      "Job Status: IN_PROGRESS\n",
      "Job Status: IN_PROGRESS\n",
      "Job Status: IN_PROGRESS\n",
      "Job Status: IN_PROGRESS\n",
      "Job Status: IN_PROGRESS\n",
      "Job Status: IN_PROGRESS\n",
      "Job Status: IN_PROGRESS\n",
      "Job Status: IN_PROGRESS\n",
      "Job Status: IN_PROGRESS\n",
      "Job Status: IN_PROGRESS\n",
      "Job Status: IN_PROGRESS\n",
      "Job Status: IN_PROGRESS\n",
      "Job Status: IN_PROGRESS\n",
      "Job Status: IN_PROGRESS\n",
      "Job Status: IN_PROGRESS\n",
      "Job Status: IN_PROGRESS\n",
      "Job Status: IN_PROGRESS\n",
      "Job Status: IN_PROGRESS\n",
      "Job Status: IN_PROGRESS\n",
      "Job Status: IN_PROGRESS\n",
      "Job Status: IN_PROGRESS\n",
      "Job Status: IN_PROGRESS\n",
      "Job Status: IN_PROGRESS\n",
      "Job Status: IN_PROGRESS\n",
      "Job Status: IN_PROGRESS\n",
      "Job Status: IN_PROGRESS\n",
      "Job Status: IN_PROGRESS\n",
      "Job Status: IN_PROGRESS\n",
      "Job Status: IN_PROGRESS\n",
      "Job Status: IN_PROGRESS\n",
      "Job Status: IN_PROGRESS\n",
      "Job Status: IN_PROGRESS\n",
      "Job Status: IN_PROGRESS\n",
      "Job Status: IN_PROGRESS\n",
      "Job Status: IN_PROGRESS\n",
      "Job Status: COMPLETED\n",
      "Job completed successfully!\n"
     ]
    }
   ],
   "source": [
    "import time\n",
    "\n",
    "def check_job_status(job_id):\n",
    "    while True:\n",
    "        response = comprehend_client.describe_topics_detection_job(\n",
    "            JobId=job_id\n",
    "        )\n",
    "        status = response['TopicsDetectionJobProperties']['JobStatus']\n",
    "        print(f\"Job Status: {status}\")\n",
    "        if status == 'COMPLETED':\n",
    "            print(\"Job completed successfully!\")\n",
    "            break\n",
    "        elif status == 'FAILED':\n",
    "            raise Exception(\"The job failed.\")\n",
    "        time.sleep(30)  # Check every 30 seconds\n",
    "\n",
    "# Start job and check status\n",
    "check_job_status(job_id)"
   ]
  },
  {
   "cell_type": "code",
   "execution_count": 16,
   "metadata": {},
   "outputs": [],
   "source": [
    "import boto3\n",
    "\n",
    "s3_client = boto3.client('s3')\n",
    "\n",
    "def download_output_file(bucket, topics_comprehend_key, file_name):\n",
    "    # Download the tar.gz file from the specified S3 bucket and prefix\n",
    "    output_file = f'/tmp/{file_name}'\n",
    "    s3_client.download_file(bucket, f'{topics_comprehend_key}', output_file)\n",
    "    return output_file"
   ]
  },
  {
   "cell_type": "code",
   "execution_count": 17,
   "metadata": {},
   "outputs": [],
   "source": [
    "import tarfile\n",
    "import os\n",
    "\n",
    "def extract_tar_gz(file_path, extract_to='/tmp'):\n",
    "    with tarfile.open(file_path, \"r:gz\") as tar:\n",
    "        tar.extractall(path=extract_to)\n",
    "        print(f\"Extracted files to {extract_to}\")\n",
    "        # List the files extracted\n",
    "        extracted_files = os.listdir(extract_to)\n",
    "        print(f\"Extracted files: {extracted_files}\")\n",
    "\n",
    "        # Print out all files, including those in subdirectories\n",
    "        for root, dirs, files in os.walk(extract_to):\n",
    "            print(f\"Directory: {root}\")\n",
    "            for file in files:\n",
    "                print(f\"File: {file}\")\n",
    "\n",
    "        return extracted_files"
   ]
  },
  {
   "cell_type": "code",
   "execution_count": 18,
   "metadata": {},
   "outputs": [],
   "source": [
    "import shutil\n",
    "\n",
    "# Function to search for and move CSV files\n",
    "def move_csv_files(extract_to='/tmp', notebook_dir='../en_us'):\n",
    "    found_files = []\n",
    "    \n",
    "    # Walk through all extracted directories and files\n",
    "    for root, dirs, files in os.walk(extract_to):\n",
    "        for file in files:\n",
    "            if file in ['topic-terms.csv', 'doc-topics.csv']:\n",
    "                full_file_path = os.path.join(root, file)\n",
    "                found_files.append(full_file_path)\n",
    "                # Move the file to the notebook directory\n",
    "                shutil.copy(full_file_path, os.path.join(notebook_dir, file))\n",
    "                print(f\"Moved {file} to {notebook_dir}\")\n",
    "\n",
    "    if not found_files:\n",
    "        print(\"No CSV files found.\")"
   ]
  },
  {
   "cell_type": "code",
   "execution_count": 19,
   "metadata": {},
   "outputs": [],
   "source": [
    "import csv\n",
    "\n",
    "def print_topics(file_path):\n",
    "    with open(file_path, 'r') as csv_file:\n",
    "        csv_reader = csv.reader(csv_file)\n",
    "        next(csv_reader)  # Skip header row\n",
    "        for row in csv_reader:\n",
    "            topic_index = row[0]    # Topic number\n",
    "            term = row[1]           # Term associated with the topic\n",
    "            score = row[2]          # Relevance score of the term\n",
    "            print(f'Topic {topic_index}: {term} (Score: {score})')"
   ]
  },
  {
   "cell_type": "code",
   "execution_count": 20,
   "metadata": {},
   "outputs": [
    {
     "name": "stdout",
     "output_type": "stream",
     "text": [
      "output filename: s3://c125984a3128011l7679056t1w199902952632-labbucket-owxxnbun3jgz/output/199902952632-TOPICS-ccffbc1c4c551f56105e8d75e34f74f3/output/output.tar.gz\n",
      "output/199902952632-TOPICS-ccffbc1c4c551f56105e8d75e34f74f3/output/output.tar.gz\n"
     ]
    }
   ],
   "source": [
    "response = comprehend_client.describe_topics_detection_job(\n",
    "            JobId=job_id\n",
    "        )\n",
    "topic_comprehend_output_file = response['TopicsDetectionJobProperties']['OutputDataConfig']['S3Uri']\n",
    "print(f'output filename: {topic_comprehend_output_file}')\n",
    "\n",
    "topics_comprehend_bucket, topics_comprehend_key = topic_comprehend_output_file.replace(\"s3://\", \"\").split(\"/\", 1)\n",
    "print(topics_comprehend_key)"
   ]
  },
  {
   "cell_type": "code",
   "execution_count": 21,
   "metadata": {},
   "outputs": [
    {
     "name": "stdout",
     "output_type": "stream",
     "text": [
      "Extracted files to /tmp\n",
      "Extracted files: ['.font-unix', '.X11-unix', '.ICE-unix', '.Test-unix', '.XIM-unix', 'output.tar.gz', 'doc-topics.csv', 'topic-terms.csv', 'systemd-private-bd1d0c9b686c4491a99dda395b4645f5-chronyd.service-UXJKz4', 'hsperfdata_role-agent', '.java_pid4139', 'jetty-localhost-9081-role-proxy-agent_war-_-any-10912996224794097439']\n",
      "Directory: /tmp\n",
      "File: output.tar.gz\n",
      "File: doc-topics.csv\n",
      "File: topic-terms.csv\n",
      "File: .java_pid4139\n",
      "Directory: /tmp/.font-unix\n",
      "Directory: /tmp/.X11-unix\n",
      "Directory: /tmp/.ICE-unix\n",
      "Directory: /tmp/.Test-unix\n",
      "Directory: /tmp/.XIM-unix\n",
      "Directory: /tmp/hsperfdata_role-agent\n",
      "File: 4139\n",
      "Moved doc-topics.csv to ../en_us\n",
      "Moved topic-terms.csv to ../en_us\n",
      "Topic 000: money (Score: 0.0070251743)\n",
      "Topic 000: gang (Score: 0.0046430626)\n",
      "Topic 000: work (Score: 0.0056518908)\n",
      "Topic 000: steal (Score: 0.0035103702)\n",
      "Topic 000: make (Score: 0.0059012785)\n",
      "Topic 000: police (Score: 0.004918466)\n",
      "Topic 000: bank (Score: 0.0027779688)\n",
      "Topic 000: job (Score: 0.0032056163)\n",
      "Topic 000: plan (Score: 0.0030465436)\n",
      "Topic 000: decide (Score: 0.0041198647)\n",
      "Topic 001: house (Score: 0.0077459537)\n",
      "Topic 001: jerry (Score: 0.0044378503)\n",
      "Topic 001: back (Score: 0.0061691627)\n",
      "Topic 001: bug (Score: 0.002854281)\n",
      "Topic 001: show (Score: 0.003939391)\n",
      "Topic 001: cat (Score: 0.0026390865)\n",
      "Topic 001: night (Score: 0.0037457442)\n",
      "Topic 001: run (Score: 0.0038641563)\n",
      "Topic 001: leave (Score: 0.004616506)\n",
      "Topic 001: find (Score: 0.008597488)\n",
      "Topic 002: world (Score: 0.004834174)\n",
      "Topic 002: kill (Score: 0.008328949)\n",
      "Topic 002: attack (Score: 0.0038924264)\n",
      "Topic 002: group (Score: 0.0041901087)\n",
      "Topic 002: soldier (Score: 0.003215913)\n",
      "Topic 002: escape (Score: 0.0041566906)\n",
      "Topic 002: german (Score: 0.0029034622)\n",
      "Topic 002: ship (Score: 0.002891831)\n",
      "Topic 002: army (Score: 0.0027799427)\n",
      "Topic 002: fight (Score: 0.0036138159)\n",
      "Topic 003: film (Score: 0.020674217)\n",
      "Topic 003: life (Score: 0.019720538)\n",
      "Topic 003: story (Score: 0.010449551)\n",
      "Topic 003: change (Score: 0.0039003955)\n",
      "Topic 003: world (Score: 0.004262138)\n",
      "Topic 003: day (Score: 0.00527914)\n",
      "Topic 003: character (Score: 0.0032868723)\n",
      "Topic 003: live (Score: 0.00479114)\n",
      "Topic 003: time (Score: 0.0050547635)\n",
      "Topic 003: people (Score: 0.0037278798)\n",
      "Topic 004: kill (Score: 0.015001995)\n",
      "Topic 004: police (Score: 0.0122340135)\n",
      "Topic 004: murder (Score: 0.012547882)\n",
      "Topic 004: killer (Score: 0.005328062)\n",
      "Topic 004: detective (Score: 0.0042046015)\n",
      "Topic 004: officer (Score: 0.0044147675)\n",
      "Topic 004: gang (Score: 0.0045398884)\n",
      "Topic 004: investigate (Score: 0.0037950655)\n",
      "Topic 004: death (Score: 0.0051778704)\n",
      "Topic 004: crime (Score: 0.0037212465)\n",
      "Topic 005: wife (Score: 0.015190864)\n",
      "Topic 005: husband (Score: 0.012404038)\n",
      "Topic 005: woman (Score: 0.013448747)\n",
      "Topic 005: marry (Score: 0.009817922)\n",
      "Topic 005: affair (Score: 0.004761701)\n",
      "Topic 005: cite (Score: 0.0047636647)\n",
      "Topic 005: web (Score: 0.0042977664)\n",
      "Topic 005: daughter (Score: 0.006265316)\n",
      "Topic 005: child (Score: 0.0056858016)\n",
      "Topic 005: couple (Score: 0.0038685834)\n",
      "Topic 006: woman (Score: 0.023506658)\n",
      "Topic 006: young (Score: 0.018556217)\n",
      "Topic 006: girl (Score: 0.006788037)\n",
      "Topic 006: beautiful (Score: 0.0034038648)\n",
      "Topic 006: husband (Score: 0.004834397)\n",
      "Topic 006: film (Score: 0.008983042)\n",
      "Topic 006: name (Score: 0.0038818333)\n",
      "Topic 006: story (Score: 0.0066558593)\n",
      "Topic 006: web (Score: 0.0027027)\n",
      "Topic 006: mysterious (Score: 0.002280982)\n",
      "Topic 007: family (Score: 0.027281035)\n",
      "Topic 007: brother (Score: 0.007664831)\n",
      "Topic 007: house (Score: 0.0069310367)\n",
      "Topic 007: home (Score: 0.0073286565)\n",
      "Topic 007: town (Score: 0.00569627)\n",
      "Topic 007: child (Score: 0.0064050797)\n",
      "Topic 007: story (Score: 0.008100817)\n",
      "Topic 007: village (Score: 0.0045362534)\n",
      "Topic 007: life (Score: 0.009343884)\n",
      "Topic 007: live (Score: 0.005194868)\n",
      "Topic 008: love (Score: 0.032945044)\n",
      "Topic 008: fall (Score: 0.020185126)\n",
      "Topic 008: marry (Score: 0.013192543)\n",
      "Topic 008: girl (Score: 0.012022028)\n",
      "Topic 008: story (Score: 0.0117447395)\n",
      "Topic 008: meet (Score: 0.007030649)\n",
      "Topic 008: marriage (Score: 0.0052088564)\n",
      "Topic 008: daughter (Score: 0.0068390677)\n",
      "Topic 008: friend (Score: 0.007539268)\n",
      "Topic 008: sister (Score: 0.0044109835)\n",
      "Topic 009: father (Score: 0.029900419)\n",
      "Topic 009: mother (Score: 0.019165827)\n",
      "Topic 009: child (Score: 0.008625716)\n",
      "Topic 009: year (Score: 0.009079175)\n",
      "Topic 009: boy (Score: 0.0076641324)\n",
      "Topic 009: daughter (Score: 0.008137436)\n",
      "Topic 009: brother (Score: 0.0066765)\n",
      "Topic 009: home (Score: 0.006044058)\n",
      "Topic 009: school (Score: 0.003857862)\n",
      "Topic 009: sister (Score: 0.004900498)\n"
     ]
    }
   ],
   "source": [
    "# Define file name\n",
    "file_name = 'output.tar.gz'\n",
    "\n",
    "# Download tar.gz file\n",
    "tar_gz_file = download_output_file(bucket, topics_comprehend_key, file_name)\n",
    "\n",
    "# Extract the tar.gz file\n",
    "extracted_files = extract_tar_gz(tar_gz_file)\n",
    "\n",
    "# Move the CSV files to the notebook location\n",
    "move_csv_files()\n",
    "\n",
    "# Assuming topic-terms.csv is one of the extracted files, print topics\n",
    "if 'topic-terms.csv' in extracted_files:\n",
    "    print_topics('/tmp/topic-terms.csv')\n",
    "else:\n",
    "    print(\"topic-terms.csv not found!\")"
   ]
  },
  {
   "cell_type": "markdown",
   "metadata": {},
   "source": [
    "# Congratulations!\n",
    "\n",
    "You have completed this lab, and you can now end the lab by following the lab guide instructions."
   ]
  },
  {
   "cell_type": "markdown",
   "metadata": {},
   "source": [
    "*©2023 Amazon Web Services, Inc. or its affiliates. All rights reserved. This work may not be reproduced or redistributed, in whole or in part, without prior written permission from Amazon Web Services, Inc. Commercial copying, lending, or selling is prohibited. All trademarks are the property of their owners.*\n"
   ]
  }
 ],
 "metadata": {
  "instance_type": "ml.t3.medium",
  "kernelspec": {
   "display_name": "conda_python3",
   "language": "python",
   "name": "conda_python3"
  },
  "language_info": {
   "codemirror_mode": {
    "name": "ipython",
    "version": 3
   },
   "file_extension": ".py",
   "mimetype": "text/x-python",
   "name": "python",
   "nbconvert_exporter": "python",
   "pygments_lexer": "ipython3",
   "version": "3.10.14"
  },
  "toc": {
   "base_numbering": 1,
   "nav_menu": {},
   "number_sections": true,
   "sideBar": true,
   "skip_h1_title": false,
   "title_cell": "Table of Contents",
   "title_sidebar": "Contents",
   "toc_cell": false,
   "toc_position": {},
   "toc_section_display": true,
   "toc_window_display": false
  },
  "vscode": {
   "interpreter": {
    "hash": "b71a13339a0be9489ff337af97259fe0ed71e682663adc836bae31ac651d564e"
   }
  }
 },
 "nbformat": 4,
 "nbformat_minor": 4
}
